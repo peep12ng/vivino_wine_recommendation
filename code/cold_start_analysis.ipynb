{
 "cells": [
  {
   "cell_type": "code",
   "execution_count": 6,
   "metadata": {},
   "outputs": [],
   "source": [
    "import pandas as pd\n",
    "\n",
    "from surprise import SVD, SVDpp\n",
    "from surprise import KNNBasic, KNNBaseline, BaselineOnly\n",
    "from surprise.accuracy import rmse\n",
    "from surprise import Reader, Dataset, dump\n",
    "from surprise.model_selection import train_test_split"
   ]
  },
  {
   "cell_type": "code",
   "execution_count": 2,
   "metadata": {},
   "outputs": [],
   "source": [
    "df_review = pd.read_csv(\"../csv/eda/reviews.csv\")"
   ]
  },
  {
   "cell_type": "code",
   "execution_count": 5,
   "metadata": {},
   "outputs": [],
   "source": [
    "import os\n",
    "\n",
    "if os.path.exists(\"../csv/cs_analysis/\")==False:\n",
    "    os.mkdir(\"../csv/cs_analysis/\")\n",
    "\n",
    "df_review.to_csv(\"../csv/cs_analysis/reviews.csv\", index=False, header=False)"
   ]
  },
  {
   "cell_type": "code",
   "execution_count": 10,
   "metadata": {},
   "outputs": [],
   "source": [
    "reader = Reader(rating_scale=(0.5, 5))\n",
    "data = Dataset.load_from_df(df_review[[\"user_id\", \"code\", \"user_rating\"]], reader=reader)\n",
    "train, test = train_test_split(data, test_size=0.2, random_state=42)"
   ]
  },
  {
   "cell_type": "code",
   "execution_count": 17,
   "metadata": {},
   "outputs": [
    {
     "ename": "KeyboardInterrupt",
     "evalue": "",
     "output_type": "error",
     "traceback": [
      "\u001b[1;31m---------------------------------------------------------------------------\u001b[0m",
      "\u001b[1;31mKeyboardInterrupt\u001b[0m                         Traceback (most recent call last)",
      "Cell \u001b[1;32mIn[17], line 8\u001b[0m\n\u001b[0;32m      5\u001b[0m algo_svd\u001b[39m.\u001b[39mfit(train)\n\u001b[0;32m      6\u001b[0m pred_svd \u001b[39m=\u001b[39m algo_svd\u001b[39m.\u001b[39mtest(test)\n\u001b[1;32m----> 8\u001b[0m algo_svdpp\u001b[39m.\u001b[39;49mfit(train)\n\u001b[0;32m      9\u001b[0m pred_svdpp \u001b[39m=\u001b[39m algo_svdpp\u001b[39m.\u001b[39mtest(test)\n\u001b[0;32m     11\u001b[0m algo_knn\u001b[39m.\u001b[39mfit(train)\n",
      "File \u001b[1;32mc:\\Users\\peep1\\workplace\\vivino_wine_recommendation\\venv\\lib\\site-packages\\surprise\\prediction_algorithms\\matrix_factorization.pyx:400\u001b[0m, in \u001b[0;36msurprise.prediction_algorithms.matrix_factorization.SVDpp.fit\u001b[1;34m()\u001b[0m\n",
      "File \u001b[1;32mc:\\Users\\peep1\\workplace\\vivino_wine_recommendation\\venv\\lib\\site-packages\\surprise\\prediction_algorithms\\matrix_factorization.pyx:464\u001b[0m, in \u001b[0;36msurprise.prediction_algorithms.matrix_factorization.SVDpp.sgd\u001b[1;34m()\u001b[0m\n",
      "File \u001b[1;32mc:\\Users\\peep1\\workplace\\vivino_wine_recommendation\\venv\\lib\\site-packages\\surprise\\trainset.py:194\u001b[0m, in \u001b[0;36mTrainset.all_ratings\u001b[1;34m(self)\u001b[0m\n\u001b[0;32m    192\u001b[0m \u001b[39mfor\u001b[39;00m u, u_ratings \u001b[39min\u001b[39;00m \u001b[39mself\u001b[39m\u001b[39m.\u001b[39mur\u001b[39m.\u001b[39mitems():\n\u001b[0;32m    193\u001b[0m     \u001b[39mfor\u001b[39;00m i, r \u001b[39min\u001b[39;00m u_ratings:\n\u001b[1;32m--> 194\u001b[0m         \u001b[39myield\u001b[39;00m u, i, r\n",
      "\u001b[1;31mKeyboardInterrupt\u001b[0m: "
     ]
    }
   ],
   "source": [
    "algo_svd = SVD()\n",
    "algo_svdpp = SVDpp()\n",
    "algo_knn = KNNBasic()\n",
    "\n",
    "algo_svd.fit(train)\n",
    "pred_svd = algo_svd.test(test)\n",
    "\n",
    "algo_svdpp.fit(train)\n",
    "pred_svdpp = algo_svdpp.test(test)\n",
    "\n",
    "algo_knn.fit(train)\n",
    "pred_knn = algo_knn.test(test)"
   ]
  }
 ],
 "metadata": {
  "kernelspec": {
   "display_name": "venv",
   "language": "python",
   "name": "python3"
  },
  "language_info": {
   "codemirror_mode": {
    "name": "ipython",
    "version": 3
   },
   "file_extension": ".py",
   "mimetype": "text/x-python",
   "name": "python",
   "nbconvert_exporter": "python",
   "pygments_lexer": "ipython3",
   "version": "3.10.11"
  },
  "orig_nbformat": 4
 },
 "nbformat": 4,
 "nbformat_minor": 2
}
