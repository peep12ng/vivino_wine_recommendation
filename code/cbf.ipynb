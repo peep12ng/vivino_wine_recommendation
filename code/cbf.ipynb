{
 "cells": [
  {
   "cell_type": "code",
   "execution_count": 1,
   "metadata": {},
   "outputs": [],
   "source": [
    "import pandas as pd\n",
    "import numpy as np"
   ]
  },
  {
   "cell_type": "code",
   "execution_count": 26,
   "metadata": {},
   "outputs": [],
   "source": [
    "df_wine = pd.read_csv(\"../csv/preprocessing/cbf_wines.csv\")"
   ]
  },
  {
   "cell_type": "code",
   "execution_count": 27,
   "metadata": {},
   "outputs": [
    {
     "data": {
      "text/html": [
       "<div>\n",
       "<style scoped>\n",
       "    .dataframe tbody tr th:only-of-type {\n",
       "        vertical-align: middle;\n",
       "    }\n",
       "\n",
       "    .dataframe tbody tr th {\n",
       "        vertical-align: top;\n",
       "    }\n",
       "\n",
       "    .dataframe thead th {\n",
       "        text-align: right;\n",
       "    }\n",
       "</style>\n",
       "<table border=\"1\" class=\"dataframe\">\n",
       "  <thead>\n",
       "    <tr style=\"text-align: right;\">\n",
       "      <th></th>\n",
       "      <th>title</th>\n",
       "      <th>code</th>\n",
       "      <th>id</th>\n",
       "      <th>year</th>\n",
       "      <th>country</th>\n",
       "      <th>type</th>\n",
       "      <th>type_id</th>\n",
       "      <th>acidity</th>\n",
       "      <th>intensity</th>\n",
       "      <th>sweetness</th>\n",
       "      <th>price</th>\n",
       "    </tr>\n",
       "  </thead>\n",
       "  <tbody>\n",
       "    <tr>\n",
       "      <th>0</th>\n",
       "      <td>Santa Julia Cabernet Sauvignon 2021</td>\n",
       "      <td>11949932021</td>\n",
       "      <td>1194993</td>\n",
       "      <td>2021</td>\n",
       "      <td>Argentina</td>\n",
       "      <td>Red</td>\n",
       "      <td>1</td>\n",
       "      <td>0.473279</td>\n",
       "      <td>0.689551</td>\n",
       "      <td>0.168775</td>\n",
       "      <td>0.003492</td>\n",
       "    </tr>\n",
       "    <tr>\n",
       "      <th>1</th>\n",
       "      <td>Alamos Cabernet Sauvignon 2019</td>\n",
       "      <td>13870852019</td>\n",
       "      <td>1387085</td>\n",
       "      <td>2019</td>\n",
       "      <td>Argentina</td>\n",
       "      <td>Red</td>\n",
       "      <td>1</td>\n",
       "      <td>0.466819</td>\n",
       "      <td>0.718355</td>\n",
       "      <td>0.172030</td>\n",
       "      <td>0.004058</td>\n",
       "    </tr>\n",
       "    <tr>\n",
       "      <th>2</th>\n",
       "      <td>Alamos Red Blend 2020</td>\n",
       "      <td>12252912020</td>\n",
       "      <td>1225291</td>\n",
       "      <td>2020</td>\n",
       "      <td>Argentina</td>\n",
       "      <td>Red</td>\n",
       "      <td>1</td>\n",
       "      <td>0.572770</td>\n",
       "      <td>0.738673</td>\n",
       "      <td>0.365501</td>\n",
       "      <td>0.004058</td>\n",
       "    </tr>\n",
       "    <tr>\n",
       "      <th>3</th>\n",
       "      <td>Bodega Finca Las Moras Barrel Select Malbec 2020</td>\n",
       "      <td>27379772020</td>\n",
       "      <td>2737977</td>\n",
       "      <td>2020</td>\n",
       "      <td>Argentina</td>\n",
       "      <td>Red</td>\n",
       "      <td>1</td>\n",
       "      <td>0.365663</td>\n",
       "      <td>0.694278</td>\n",
       "      <td>0.274090</td>\n",
       "      <td>0.004064</td>\n",
       "    </tr>\n",
       "    <tr>\n",
       "      <th>4</th>\n",
       "      <td>Que Guapo Malbec Blend 2019</td>\n",
       "      <td>24038652019</td>\n",
       "      <td>2403865</td>\n",
       "      <td>2019</td>\n",
       "      <td>Argentina</td>\n",
       "      <td>Red</td>\n",
       "      <td>1</td>\n",
       "      <td>0.560459</td>\n",
       "      <td>0.784674</td>\n",
       "      <td>0.383353</td>\n",
       "      <td>0.004064</td>\n",
       "    </tr>\n",
       "  </tbody>\n",
       "</table>\n",
       "</div>"
      ],
      "text/plain": [
       "                                              title         code       id  \\\n",
       "0               Santa Julia Cabernet Sauvignon 2021  11949932021  1194993   \n",
       "1                    Alamos Cabernet Sauvignon 2019  13870852019  1387085   \n",
       "2                             Alamos Red Blend 2020  12252912020  1225291   \n",
       "3  Bodega Finca Las Moras Barrel Select Malbec 2020  27379772020  2737977   \n",
       "4                       Que Guapo Malbec Blend 2019  24038652019  2403865   \n",
       "\n",
       "   year    country type  type_id   acidity  intensity  sweetness     price  \n",
       "0  2021  Argentina  Red        1  0.473279   0.689551   0.168775  0.003492  \n",
       "1  2019  Argentina  Red        1  0.466819   0.718355   0.172030  0.004058  \n",
       "2  2020  Argentina  Red        1  0.572770   0.738673   0.365501  0.004058  \n",
       "3  2020  Argentina  Red        1  0.365663   0.694278   0.274090  0.004064  \n",
       "4  2019  Argentina  Red        1  0.560459   0.784674   0.383353  0.004064  "
      ]
     },
     "execution_count": 27,
     "metadata": {},
     "output_type": "execute_result"
    }
   ],
   "source": [
    "df_wine.head()"
   ]
  },
  {
   "cell_type": "code",
   "execution_count": 4,
   "metadata": {},
   "outputs": [],
   "source": [
    "train = pd.read_csv(\"../csv/preprocessing/train.csv\")\n",
    "test = pd.read_csv(\"../csv/preprocessing/test.csv\")"
   ]
  },
  {
   "cell_type": "code",
   "execution_count": 5,
   "metadata": {},
   "outputs": [
    {
     "name": "stderr",
     "output_type": "stream",
     "text": [
      "c:\\Users\\peep1\\workplace\\vivino_wine_recommendation\\venv\\lib\\site-packages\\sklearn\\utils\\extmath.py:152: RuntimeWarning: invalid value encountered in matmul\n",
      "  ret = a @ b\n"
     ]
    }
   ],
   "source": [
    "# get df_sim by type/country\n",
    "\n",
    "from sklearn.metrics.pairwise import euclidean_distances\n",
    "\n",
    "wine_types = df_wine[\"type\"].unique().tolist()\n",
    "sim_by_type = {}\n",
    "\n",
    "for t in wine_types:\n",
    "    wines = df_wine.loc[df_wine[\"type\"]==t, :]\n",
    "    sim = euclidean_distances(wines[[\"acidity\", \"intensity\", \"sweetness\", \"price\"]])\n",
    "    df_sim = pd.DataFrame(data=sim, index=wines[\"code\"], columns=wines[\"code\"])\n",
    "    sim_by_type[t] = df_sim"
   ]
  },
  {
   "cell_type": "code",
   "execution_count": 16,
   "metadata": {},
   "outputs": [],
   "source": [
    "def get_pivot(reviews:pd.DataFrame):\n",
    "    _arr = np.zeros((len(reviews[\"user_id\"].unique()), len(reviews[\"wine_code\"].unique())))\n",
    "    df_pivot = pd.DataFrame(data=_arr, index=reviews[\"user_id\"].unique(), columns=reviews[\"wine_code\"].unique())\n",
    "\n",
    "    for i, r in reviews.iterrows():\n",
    "        df_pivot.loc[r[\"user_id\"], r[\"wine_code\"]] = r[\"user_rating\"]\n",
    "    \n",
    "    return df_pivot"
   ]
  },
  {
   "cell_type": "code",
   "execution_count": 23,
   "metadata": {},
   "outputs": [
    {
     "data": {
      "text/plain": [
       "code\n",
       "11949932021    1.011050\n",
       "13870852019    1.011363\n",
       "12252912020    1.013108\n",
       "27379772020    1.036380\n",
       "24038652019    1.019538\n",
       "                 ...   \n",
       "12613152014    1.003264\n",
       "12613152017    1.003264\n",
       "12613152016    1.003264\n",
       "12613152013    1.003264\n",
       "12613152015    1.003264\n",
       "Length: 42655, dtype: float64"
      ]
     },
     "execution_count": 23,
     "metadata": {},
     "output_type": "execute_result"
    }
   ],
   "source": [
    "sim_by_type[\"Red\"].max()"
   ]
  },
  {
   "cell_type": "code",
   "execution_count": null,
   "metadata": {},
   "outputs": [],
   "source": [
    "mat_train = get_pivot(train)"
   ]
  },
  {
   "cell_type": "code",
   "execution_count": 19,
   "metadata": {},
   "outputs": [],
   "source": [
    "test_user_id = 1813447"
   ]
  },
  {
   "cell_type": "code",
   "execution_count": 20,
   "metadata": {},
   "outputs": [],
   "source": [
    "def rec_by_cbf(user_id):\n",
    "    wines = train.loc[train[\"user_id\"]==user_id, :]"
   ]
  },
  {
   "cell_type": "code",
   "execution_count": 24,
   "metadata": {},
   "outputs": [
    {
     "name": "stdout",
     "output_type": "stream",
     "text": [
      "         user_id  user_rating    wine_code\n",
      "0        1813447          4.0  25574952014\n",
      "2828     1813447          5.0     40862015\n",
      "2915     1813447          3.5  11456372018\n",
      "12648    1813447          3.0  11329282013\n",
      "12898    1813447          4.3  11748452007\n",
      "...          ...          ...          ...\n",
      "2505865  1813447          3.5    240162010\n",
      "2505945  1813447          4.0  12228972019\n",
      "2507281  1813447          4.5  11362312011\n",
      "2511476  1813447          5.0     12442004\n",
      "2523084  1813447          4.1     89712007\n",
      "\n",
      "[747 rows x 3 columns]\n"
     ]
    }
   ],
   "source": [
    "rec_by_cbf(test_user_id)"
   ]
  },
  {
   "cell_type": "code",
   "execution_count": 143,
   "metadata": {},
   "outputs": [
    {
     "data": {
      "text/plain": [
       "0.04294340723453909"
      ]
     },
     "execution_count": 143,
     "metadata": {},
     "output_type": "execute_result"
    }
   ],
   "source": [
    "mat_train.iloc[0, :].mean(skipna=True)"
   ]
  },
  {
   "cell_type": "code",
   "execution_count": 134,
   "metadata": {},
   "outputs": [
    {
     "data": {
      "text/html": [
       "<div>\n",
       "<style scoped>\n",
       "    .dataframe tbody tr th:only-of-type {\n",
       "        vertical-align: middle;\n",
       "    }\n",
       "\n",
       "    .dataframe tbody tr th {\n",
       "        vertical-align: top;\n",
       "    }\n",
       "\n",
       "    .dataframe thead th {\n",
       "        text-align: right;\n",
       "    }\n",
       "</style>\n",
       "<table border=\"1\" class=\"dataframe\">\n",
       "  <thead>\n",
       "    <tr style=\"text-align: right;\">\n",
       "      <th></th>\n",
       "      <th>user_id</th>\n",
       "      <th>user_rating</th>\n",
       "      <th>wine_code</th>\n",
       "    </tr>\n",
       "  </thead>\n",
       "  <tbody>\n",
       "    <tr>\n",
       "      <th>0</th>\n",
       "      <td>1813447</td>\n",
       "      <td>4.0</td>\n",
       "      <td>25574952014</td>\n",
       "    </tr>\n",
       "    <tr>\n",
       "      <th>1</th>\n",
       "      <td>9156545</td>\n",
       "      <td>3.5</td>\n",
       "      <td>30792018</td>\n",
       "    </tr>\n",
       "    <tr>\n",
       "      <th>2</th>\n",
       "      <td>386254</td>\n",
       "      <td>3.5</td>\n",
       "      <td>18922009</td>\n",
       "    </tr>\n",
       "    <tr>\n",
       "      <th>3</th>\n",
       "      <td>1042262</td>\n",
       "      <td>1.5</td>\n",
       "      <td>11350982014</td>\n",
       "    </tr>\n",
       "    <tr>\n",
       "      <th>4</th>\n",
       "      <td>9110992</td>\n",
       "      <td>3.5</td>\n",
       "      <td>16188792015</td>\n",
       "    </tr>\n",
       "    <tr>\n",
       "      <th>...</th>\n",
       "      <td>...</td>\n",
       "      <td>...</td>\n",
       "      <td>...</td>\n",
       "    </tr>\n",
       "    <tr>\n",
       "      <th>2525221</th>\n",
       "      <td>13651328</td>\n",
       "      <td>3.5</td>\n",
       "      <td>13648372016</td>\n",
       "    </tr>\n",
       "    <tr>\n",
       "      <th>2525222</th>\n",
       "      <td>316682</td>\n",
       "      <td>4.0</td>\n",
       "      <td>18516952004</td>\n",
       "    </tr>\n",
       "    <tr>\n",
       "      <th>2525223</th>\n",
       "      <td>1986166</td>\n",
       "      <td>3.0</td>\n",
       "      <td>11364722018</td>\n",
       "    </tr>\n",
       "    <tr>\n",
       "      <th>2525224</th>\n",
       "      <td>4627897</td>\n",
       "      <td>4.0</td>\n",
       "      <td>79062019</td>\n",
       "    </tr>\n",
       "    <tr>\n",
       "      <th>2525225</th>\n",
       "      <td>5505216</td>\n",
       "      <td>4.0</td>\n",
       "      <td>12610072016</td>\n",
       "    </tr>\n",
       "  </tbody>\n",
       "</table>\n",
       "<p>2525226 rows × 3 columns</p>\n",
       "</div>"
      ],
      "text/plain": [
       "          user_id  user_rating    wine_code\n",
       "0         1813447          4.0  25574952014\n",
       "1         9156545          3.5     30792018\n",
       "2          386254          3.5     18922009\n",
       "3         1042262          1.5  11350982014\n",
       "4         9110992          3.5  16188792015\n",
       "...           ...          ...          ...\n",
       "2525221  13651328          3.5  13648372016\n",
       "2525222    316682          4.0  18516952004\n",
       "2525223   1986166          3.0  11364722018\n",
       "2525224   4627897          4.0     79062019\n",
       "2525225   5505216          4.0  12610072016\n",
       "\n",
       "[2525226 rows x 3 columns]"
      ]
     },
     "execution_count": 134,
     "metadata": {},
     "output_type": "execute_result"
    }
   ],
   "source": [
    "train"
   ]
  }
 ],
 "metadata": {
  "kernelspec": {
   "display_name": "venv",
   "language": "python",
   "name": "python3"
  },
  "language_info": {
   "codemirror_mode": {
    "name": "ipython",
    "version": 3
   },
   "file_extension": ".py",
   "mimetype": "text/x-python",
   "name": "python",
   "nbconvert_exporter": "python",
   "pygments_lexer": "ipython3",
   "version": "3.10.11"
  },
  "orig_nbformat": 4
 },
 "nbformat": 4,
 "nbformat_minor": 2
}
