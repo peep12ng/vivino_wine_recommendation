{
 "cells": [
  {
   "cell_type": "markdown",
   "metadata": {},
   "source": [
    "### 추가 수집"
   ]
  },
  {
   "cell_type": "code",
   "execution_count": 1,
   "metadata": {},
   "outputs": [],
   "source": [
    "import pandas as pd"
   ]
  },
  {
   "cell_type": "markdown",
   "metadata": {},
   "source": [
    "#### 와인 고유 column 추가(code - id+year)"
   ]
  },
  {
   "cell_type": "code",
   "execution_count": 2,
   "metadata": {},
   "outputs": [],
   "source": [
    "df_wine = pd.read_csv(\".../csv/source/wines.csv\")"
   ]
  },
  {
   "cell_type": "code",
   "execution_count": 3,
   "metadata": {},
   "outputs": [
    {
     "name": "stdout",
     "output_type": "stream",
     "text": [
      "<class 'pandas.core.frame.DataFrame'>\n",
      "RangeIndex: 42775 entries, 0 to 42774\n",
      "Data columns (total 2 columns):\n",
      " #   Column  Non-Null Count  Dtype \n",
      "---  ------  --------------  ----- \n",
      " 0   year    42711 non-null  object\n",
      " 1   id      42775 non-null  int64 \n",
      "dtypes: int64(1), object(1)\n",
      "memory usage: 668.5+ KB\n"
     ]
    }
   ],
   "source": [
    "df_wine[[\"year\", \"id\"]].info()"
   ]
  },
  {
   "cell_type": "code",
   "execution_count": 4,
   "metadata": {},
   "outputs": [],
   "source": [
    "df_wine.dropna(subset=[\"year\"], axis=0, inplace=True)"
   ]
  },
  {
   "cell_type": "code",
   "execution_count": 5,
   "metadata": {},
   "outputs": [
    {
     "data": {
      "text/plain": [
       "Index(['2020', '2021', '2019', '2018', '2017', 'N.V.', '2022', '2016', '2015',\n",
       "       '2014', '2013', '2012', '2011', '2010', '2009', '2007', '2008', '2005',\n",
       "       '2006', '2003', '2004', '2002', '2000', '2001', '1997', '1999', '1995',\n",
       "       '1996', '1998', '1994', '1983', '1989', '1985', '1988', '1990', '1975',\n",
       "       '1970', '1986', '1991', '1977', '1980', '1978', '1967', '1966', '1976',\n",
       "       '1992', '1979', '1982', '1971', '1963', '1993', '1981', '1987', '1961',\n",
       "       '1968', '1965', '1960', '1955', '1959', '1969', '1964', '1974', '1947',\n",
       "       '1984', '1944', '1962', '1973', '1931', '1940', '1972', '1953', '1958',\n",
       "       '1957', '1946', '1927', '1934', '1952', '1945', '1950', '2023', '1939',\n",
       "       '1929', '1954', '1951', '1948', '1949', '1928', '1938', '1935', '1941',\n",
       "       '1956', '1925', '1907', '1912', '1847'],\n",
       "      dtype='object', name='year')"
      ]
     },
     "execution_count": 5,
     "metadata": {},
     "output_type": "execute_result"
    }
   ],
   "source": [
    "df_wine[\"year\"].value_counts().index"
   ]
  },
  {
   "cell_type": "code",
   "execution_count": 6,
   "metadata": {},
   "outputs": [],
   "source": [
    "df_wine.loc[df_wine[\"year\"]==\"N.V.\", \"year\"] = \"9999\""
   ]
  },
  {
   "cell_type": "code",
   "execution_count": 7,
   "metadata": {},
   "outputs": [],
   "source": [
    "df_wine[\"year\"] = df_wine[\"year\"].astype(\"float\").astype(\"int64\")"
   ]
  },
  {
   "cell_type": "code",
   "execution_count": 8,
   "metadata": {},
   "outputs": [
    {
     "data": {
      "text/plain": [
       "Index([2020, 2021, 2019, 2018, 2017, 9999, 2022, 2016, 2015, 2014, 2013, 2012,\n",
       "       2011, 2010, 2009, 2007, 2008, 2005, 2006, 2003, 2004, 2002, 2000, 2001,\n",
       "       1997, 1999, 1995, 1996, 1998, 1994, 1983, 1989, 1985, 1988, 1990, 1975,\n",
       "       1970, 1986, 1991, 1977, 1980, 1978, 1967, 1966, 1976, 1992, 1979, 1982,\n",
       "       1971, 1963, 1993, 1981, 1987, 1961, 1968, 1965, 1960, 1955, 1959, 1969,\n",
       "       1964, 1974, 1947, 1984, 1944, 1962, 1973, 1931, 1940, 1972, 1953, 1958,\n",
       "       1957, 1946, 1927, 1934, 1952, 1945, 1950, 2023, 1939, 1929, 1954, 1951,\n",
       "       1948, 1949, 1928, 1938, 1935, 1941, 1956, 1925, 1907, 1912, 1847],\n",
       "      dtype='int64', name='year')"
      ]
     },
     "execution_count": 8,
     "metadata": {},
     "output_type": "execute_result"
    }
   ],
   "source": [
    "df_wine[\"year\"].value_counts().index"
   ]
  },
  {
   "cell_type": "code",
   "execution_count": 9,
   "metadata": {},
   "outputs": [],
   "source": [
    "df_wine[\"code\"] = df_wine[\"id\"].astype(\"str\") + df_wine[\"year\"].astype(\"str\")"
   ]
  },
  {
   "cell_type": "code",
   "execution_count": 10,
   "metadata": {},
   "outputs": [],
   "source": [
    "df_wine = df_wine[[\"code\", \"id\", \"year\", \"name\", \"title\", \"winery\", \"country\", \"type_id\", \"acidity\", \"intensity\", \"sweetness\", \"tannin\", \"price\"]]"
   ]
  },
  {
   "cell_type": "code",
   "execution_count": 11,
   "metadata": {},
   "outputs": [],
   "source": [
    "df_wine.reset_index(drop=True, inplace=True)"
   ]
  },
  {
   "cell_type": "code",
   "execution_count": 12,
   "metadata": {},
   "outputs": [],
   "source": [
    "df_wine.to_csv(\".../csv/scraping/wines.csv\", index=False)"
   ]
  },
  {
   "cell_type": "code",
   "execution_count": 13,
   "metadata": {},
   "outputs": [
    {
     "name": "stderr",
     "output_type": "stream",
     "text": [
      "C:\\Users\\peep1\\AppData\\Local\\Temp\\ipykernel_18668\\2058106327.py:1: DtypeWarning: Columns (1) have mixed types. Specify dtype option on import or set low_memory=False.\n",
      "  df_review = pd.read_csv(\"../csv/source/reviews.csv\")\n"
     ]
    }
   ],
   "source": [
    "df_review = pd.read_csv(\".../csv/source/reviews.csv\")"
   ]
  },
  {
   "cell_type": "code",
   "execution_count": 14,
   "metadata": {},
   "outputs": [
    {
     "name": "stdout",
     "output_type": "stream",
     "text": [
      "False\n",
      "True\n"
     ]
    }
   ],
   "source": [
    "print(df_review[\"id\"].isna().any())\n",
    "print(df_review[\"year\"].isna().any())"
   ]
  },
  {
   "cell_type": "code",
   "execution_count": 15,
   "metadata": {},
   "outputs": [],
   "source": [
    "df_review.dropna(subset=[\"year\"], inplace=True)\n",
    "df_review.loc[df_review[\"year\"]==\"N.V.\", \"year\"] = \"9999\"\n",
    "df_review[\"year\"] = df_review[\"year\"].astype(\"float\").astype(\"int64\")\n",
    "df_review[\"code\"] = df_review[\"wine_id\"].astype(\"str\") + df_review[\"year\"].astype(\"str\")\n",
    "df_review = df_review[[\"code\", \"wine_id\", \"year\", \"user_id\", \"user_rating\"]]\n",
    "df_review.reset_index(drop=True, inplace=True)"
   ]
  },
  {
   "cell_type": "code",
   "execution_count": 16,
   "metadata": {},
   "outputs": [],
   "source": [
    "df_review.to_csv(\".../csv/scraping/reviews.csv\", index=False)"
   ]
  },
  {
   "cell_type": "markdown",
   "metadata": {},
   "source": [
    "#### 와인 별 평균 리뷰 이하 데이터 제거"
   ]
  },
  {
   "cell_type": "code",
   "execution_count": 19,
   "metadata": {},
   "outputs": [],
   "source": [
    "df_review = pd.read_csv(\".../csv/scraping/reviews.csv\")"
   ]
  },
  {
   "cell_type": "code",
   "execution_count": 23,
   "metadata": {},
   "outputs": [
    {
     "name": "stdout",
     "output_type": "stream",
     "text": [
      "50.684063104302844\n",
      "8.0\n"
     ]
    }
   ],
   "source": [
    "print(df_review[\"code\"].value_counts().mean())\n",
    "print(df_review[\"code\"].value_counts().median())"
   ]
  },
  {
   "cell_type": "code",
   "execution_count": 32,
   "metadata": {},
   "outputs": [],
   "source": [
    "t = df_review[\"code\"].value_counts()"
   ]
  },
  {
   "cell_type": "code",
   "execution_count": 39,
   "metadata": {},
   "outputs": [],
   "source": [
    "codes = t.loc[t>=50].index"
   ]
  },
  {
   "cell_type": "code",
   "execution_count": 42,
   "metadata": {},
   "outputs": [],
   "source": [
    "df_review = df_review.loc[df_review[\"code\"].isin(codes), :]"
   ]
  },
  {
   "cell_type": "code",
   "execution_count": 45,
   "metadata": {},
   "outputs": [],
   "source": [
    "df_review.reset_index(drop=True, inplace=True)"
   ]
  },
  {
   "cell_type": "code",
   "execution_count": 47,
   "metadata": {},
   "outputs": [],
   "source": [
    "df_review.to_csv(\".../csv/scraping/reviews.csv\", index=False)"
   ]
  },
  {
   "cell_type": "markdown",
   "metadata": {},
   "source": [
    "#### 누락 데이터 조회"
   ]
  },
  {
   "cell_type": "code",
   "execution_count": 48,
   "metadata": {},
   "outputs": [],
   "source": [
    "df_review = pd.read_csv(\".../csv/scraping/reviews.csv\")"
   ]
  },
  {
   "cell_type": "code",
   "execution_count": 49,
   "metadata": {},
   "outputs": [],
   "source": [
    "df_wine = pd.read_csv(\".../csv/scraping/wines.csv\")"
   ]
  },
  {
   "cell_type": "code",
   "execution_count": 98,
   "metadata": {},
   "outputs": [],
   "source": [
    "t = df_review.loc[df_review[\"code\"].isin(df_wine[\"code\"].unique())==False, [\"code\", \"wine_id\", \"year\"]].drop_duplicates(\"code\")"
   ]
  },
  {
   "cell_type": "code",
   "execution_count": 99,
   "metadata": {},
   "outputs": [
    {
     "data": {
      "text/html": [
       "<div>\n",
       "<style scoped>\n",
       "    .dataframe tbody tr th:only-of-type {\n",
       "        vertical-align: middle;\n",
       "    }\n",
       "\n",
       "    .dataframe tbody tr th {\n",
       "        vertical-align: top;\n",
       "    }\n",
       "\n",
       "    .dataframe thead th {\n",
       "        text-align: right;\n",
       "    }\n",
       "</style>\n",
       "<table border=\"1\" class=\"dataframe\">\n",
       "  <thead>\n",
       "    <tr style=\"text-align: right;\">\n",
       "      <th></th>\n",
       "      <th>code</th>\n",
       "      <th>wine_id</th>\n",
       "      <th>year</th>\n",
       "    </tr>\n",
       "  </thead>\n",
       "  <tbody>\n",
       "    <tr>\n",
       "      <th>13</th>\n",
       "      <td>11949932020</td>\n",
       "      <td>1194993</td>\n",
       "      <td>2020</td>\n",
       "    </tr>\n",
       "    <tr>\n",
       "      <th>15</th>\n",
       "      <td>11949932019</td>\n",
       "      <td>1194993</td>\n",
       "      <td>2019</td>\n",
       "    </tr>\n",
       "    <tr>\n",
       "      <th>30</th>\n",
       "      <td>11949932017</td>\n",
       "      <td>1194993</td>\n",
       "      <td>2017</td>\n",
       "    </tr>\n",
       "    <tr>\n",
       "      <th>35</th>\n",
       "      <td>11949932013</td>\n",
       "      <td>1194993</td>\n",
       "      <td>2013</td>\n",
       "    </tr>\n",
       "    <tr>\n",
       "      <th>42</th>\n",
       "      <td>11949932016</td>\n",
       "      <td>1194993</td>\n",
       "      <td>2016</td>\n",
       "    </tr>\n",
       "    <tr>\n",
       "      <th>...</th>\n",
       "      <td>...</td>\n",
       "      <td>...</td>\n",
       "      <td>...</td>\n",
       "    </tr>\n",
       "    <tr>\n",
       "      <th>15094819</th>\n",
       "      <td>21356872018</td>\n",
       "      <td>2135687</td>\n",
       "      <td>2018</td>\n",
       "    </tr>\n",
       "    <tr>\n",
       "      <th>15094846</th>\n",
       "      <td>21356872016</td>\n",
       "      <td>2135687</td>\n",
       "      <td>2016</td>\n",
       "    </tr>\n",
       "    <tr>\n",
       "      <th>15094848</th>\n",
       "      <td>21356872017</td>\n",
       "      <td>2135687</td>\n",
       "      <td>2017</td>\n",
       "    </tr>\n",
       "    <tr>\n",
       "      <th>15094889</th>\n",
       "      <td>21356872014</td>\n",
       "      <td>2135687</td>\n",
       "      <td>2014</td>\n",
       "    </tr>\n",
       "    <tr>\n",
       "      <th>15096804</th>\n",
       "      <td>58525892021</td>\n",
       "      <td>5852589</td>\n",
       "      <td>2021</td>\n",
       "    </tr>\n",
       "  </tbody>\n",
       "</table>\n",
       "<p>55577 rows × 3 columns</p>\n",
       "</div>"
      ],
      "text/plain": [
       "                 code  wine_id  year\n",
       "13        11949932020  1194993  2020\n",
       "15        11949932019  1194993  2019\n",
       "30        11949932017  1194993  2017\n",
       "35        11949932013  1194993  2013\n",
       "42        11949932016  1194993  2016\n",
       "...               ...      ...   ...\n",
       "15094819  21356872018  2135687  2018\n",
       "15094846  21356872016  2135687  2016\n",
       "15094848  21356872017  2135687  2017\n",
       "15094889  21356872014  2135687  2014\n",
       "15096804  58525892021  5852589  2021\n",
       "\n",
       "[55577 rows x 3 columns]"
      ]
     },
     "execution_count": 99,
     "metadata": {},
     "output_type": "execute_result"
    }
   ],
   "source": [
    "t"
   ]
  },
  {
   "cell_type": "markdown",
   "metadata": {},
   "source": [
    "#### 누락 데이터 수집"
   ]
  },
  {
   "cell_type": "code",
   "execution_count": 187,
   "metadata": {},
   "outputs": [],
   "source": [
    "import requests\n",
    "import json\n",
    "\n",
    "def get_wine(id, year):\n",
    "    headers = {\"User-Agent\" : \"Mozilla/5.0 (Windows NT 10.0; Win64; x64) AppleWebKit/537.36 (KHTML, like Gecko) Chrome/114.0.0.0 Safari/537.36\",\n",
    "               \"referer\":\"https://www.vivino.com/explore?e=eJzLLbI1VMvNzLM1UMtNrLA1NTBQS660DQ1WSwYSLmoFQNn0NNuyxKLM1JLEHLX8ohTblNTiZLX8pErbgqLM5FS18pLoWKAqMGUEoUwglDmEMobKmQBNLgYyEovUim2dHQF9pSex\"}\n",
    "    r1 = requests.get(f\"https://www.vivino.com/US-CA/en/w/{id}?year={year}\", headers=headers)\n",
    "    body = r1.text.splitlines()\n",
    "    for i, v in enumerate(body):\n",
    "        if v.startswith(\"  window.__PRELOADED_STATE__.vintagePageInformation = \"):\n",
    "            data = json.loads(body[i].split(\"n = \")[1][:-1])\n",
    "            break\n",
    "\n",
    "    code = str(id) + str(year)\n",
    "\n",
    "    try:\n",
    "        name = data[\"wine\"][\"name\"]\n",
    "    except Exception as e:\n",
    "        name = None\n",
    "    \n",
    "    try:\n",
    "        winery = data[\"wine\"][\"winery\"][\"name\"]\n",
    "    except Exception as e:\n",
    "        winery = None\n",
    "    \n",
    "    try:\n",
    "        title = data[\"vintage\"][\"name\"]\n",
    "    except Exception as e:\n",
    "        title = None\n",
    "    \n",
    "    try:\n",
    "        price = data[\"price\"][\"amount\"]\n",
    "    except Exception as e:\n",
    "        price = -1\n",
    "    \n",
    "    try:\n",
    "        type_id = data[\"wine\"][\"type_id\"]\n",
    "    except Exception as e:\n",
    "        type_id = -1\n",
    "    \n",
    "    try:\n",
    "        country = data[\"wine\"][\"region\"][\"country\"][\"name\"]\n",
    "    except Exception as e:\n",
    "        country = None\n",
    "    \n",
    "    r2 = requests.get(f\"https://www.vivino.com/api/wines/{id}/tastes?language=en\", headers=headers).json()\n",
    "\n",
    "    try:\n",
    "        acidity = r2[\"tastes\"][\"structure\"][\"acidity\"]\n",
    "    except Exception as e:\n",
    "        acidity = -1\n",
    "    \n",
    "    try:\n",
    "        intensity = r2[\"tastes\"][\"structure\"][\"intensity\"]\n",
    "    except Exception as e:\n",
    "        intensity = -1\n",
    "    \n",
    "    try:\n",
    "        sweetness = r2[\"tastes\"][\"structure\"][\"sweetness\"]\n",
    "    except Exception as e:\n",
    "        sweetness = -1\n",
    "    \n",
    "    try:\n",
    "        tannin = r2[\"tastes\"][\"structure\"][\"tannin\"]\n",
    "    except Exception as e:\n",
    "        tannin = -1\n",
    "    \n",
    "    result = [code, id, year, name, title, winery, country, type_id, acidity, intensity, sweetness, tannin, price]\n",
    "    return result"
   ]
  },
  {
   "cell_type": "code",
   "execution_count": 188,
   "metadata": {},
   "outputs": [],
   "source": [
    "df_wine = pd.read_csv(\".../csv/scraping/wines.csv\")\n",
    "\n",
    "for i, r in t.iterrows():\n",
    "    if df_wine.loc[df_wine[\"code\"]==r[\"code\"], \"code\"].any()==False:\n",
    "        row = pd.DataFrame(data=[get_wine(r[\"wine_id\"], r[\"year\"])], columns=df_wine.columns)\n",
    "        row.to_csv(\".../csv/scraping/wines.csv\", header=False, index=False, mode=\"a\")"
   ]
  }
 ],
 "metadata": {
  "kernelspec": {
   "display_name": "venv",
   "language": "python",
   "name": "python3"
  },
  "language_info": {
   "codemirror_mode": {
    "name": "ipython",
    "version": 3
   },
   "file_extension": ".py",
   "mimetype": "text/x-python",
   "name": "python",
   "nbconvert_exporter": "python",
   "pygments_lexer": "ipython3",
   "version": "3.11.2"
  },
  "orig_nbformat": 4
 },
 "nbformat": 4,
 "nbformat_minor": 2
}
